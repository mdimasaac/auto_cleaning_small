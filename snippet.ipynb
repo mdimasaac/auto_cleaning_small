{
 "cells": [
  {
   "cell_type": "code",
   "execution_count": 5,
   "metadata": {},
   "outputs": [],
   "source": [
    "import pandas as pd\n",
    "import numpy as np\n",
    "data = pd.read_csv(\"superstore.csv\")"
   ]
  },
  {
   "cell_type": "code",
   "execution_count": 6,
   "metadata": {},
   "outputs": [
    {
     "name": "stderr",
     "output_type": "stream",
     "text": [
      "C:\\Users\\mdima\\AppData\\Local\\Temp\\ipykernel_4472\\600896021.py:6: UserWarning: Parsing dates in DD/MM/YYYY format when dayfirst=False (the default) was specified. This may lead to inconsistently parsed dates! Specify a format to ensure consistent parsing.\n",
      "  data['order_date'] = pd.to_datetime(data['order_date'])\n"
     ]
    }
   ],
   "source": [
    "cols = []\n",
    "for i in data.columns:\n",
    "    cols.append(i.lower().replace(\" \",\"_\"))\n",
    "data.columns = cols\n",
    "data = data.head(51)\n",
    "data['order_date'] = pd.to_datetime(data['order_date'])\n",
    "\n",
    "cols_to_drop = [\"order_id\",\"state\",\"ship_date\",\"region\"]\n",
    "for i in cols_to_drop:\n",
    "    try:\n",
    "        data = data.drop(columns = [i])\n",
    "    except:\n",
    "        pass\n",
    "\n",
    "num_nan_values = 10\n",
    "columns = [\"region\",\"product_name\",\"customer_name\",\"category\",\"country\"]\n",
    "for i in columns:\n",
    "    random_indices = np.random.choice(len(data), size=num_nan_values, replace=False)\n",
    "    data.loc[random_indices, i] = np.nan\n",
    "\n",
    "random_indices = np.random.choice(len(data), size=20, replace=False)\n",
    "profit = []\n",
    "for i in data[\"profit\"]:\n",
    "    profit.append(str(i))\n",
    "data[\"profit\"] = profit\n",
    "for i in random_indices:\n",
    "    data.loc[i, \"profit\"] = data.loc[i, \"profit\"].replace(\".\",\",\")\n",
    "\n",
    "sales = []\n",
    "for i in data[\"sales\"]:\n",
    "    i = str(i)+\" €\"\n",
    "    sales.append(i)\n",
    "data[\"sales\"] = sales\n",
    "data.to_csv(\"superstore_small.csv\", index = False)"
   ]
  },
  {
   "cell_type": "code",
   "execution_count": 10,
   "metadata": {},
   "outputs": [],
   "source": [
    "df_small_clean = pd.read_csv(\"superstore.csv\").head(51)\n",
    "df_small_clean.to_csv(\"superstore_small_clean.csv\", index = False)"
   ]
  },
  {
   "cell_type": "code",
   "execution_count": 11,
   "metadata": {},
   "outputs": [
    {
     "data": {
      "text/plain": [
       "Row ID             int64\n",
       "Order ID          object\n",
       "Order Date        object\n",
       "Ship Date         object\n",
       "Ship Mode         object\n",
       "Customer ID       object\n",
       "Customer Name     object\n",
       "Segment           object\n",
       "City              object\n",
       "State             object\n",
       "Country           object\n",
       "Region            object\n",
       "Product ID        object\n",
       "Category          object\n",
       "Sub-Category      object\n",
       "Product Name      object\n",
       "Sales            float64\n",
       "Quantity           int64\n",
       "Discount         float64\n",
       "Profit           float64\n",
       "dtype: object"
      ]
     },
     "execution_count": 11,
     "metadata": {},
     "output_type": "execute_result"
    }
   ],
   "source": [
    "df_small_clean.dtypes"
   ]
  },
  {
   "cell_type": "code",
   "execution_count": 21,
   "metadata": {},
   "outputs": [
    {
     "name": "stderr",
     "output_type": "stream",
     "text": [
      "C:\\Users\\mdima\\AppData\\Local\\Temp\\ipykernel_4472\\2480265734.py:1: FutureWarning: The default value of numeric_only in DataFrameGroupBy.sum is deprecated. In a future version, numeric_only will default to False. Either specify numeric_only or select only columns which should be valid for the function.\n",
      "  df.groupby([\"Sub-Category\"]).sum().index.tolist()\n"
     ]
    },
    {
     "data": {
      "text/plain": [
       "['Accessories',\n",
       " 'Appliances',\n",
       " 'Art',\n",
       " 'Binders',\n",
       " 'Bookcases',\n",
       " 'Chairs',\n",
       " 'Copiers',\n",
       " 'Envelopes',\n",
       " 'Fasteners',\n",
       " 'Furnishings',\n",
       " 'Labels',\n",
       " 'Machines',\n",
       " 'Paper',\n",
       " 'Phones',\n",
       " 'Storage',\n",
       " 'Supplies',\n",
       " 'Tables']"
      ]
     },
     "execution_count": 21,
     "metadata": {},
     "output_type": "execute_result"
    }
   ],
   "source": [
    "df.groupby([\"Sub-Category\"]).sum().index.tolist()"
   ]
  },
  {
   "cell_type": "code",
   "execution_count": 13,
   "metadata": {},
   "outputs": [
    {
     "data": {
      "text/plain": [
       "'Technology'"
      ]
     },
     "execution_count": 13,
     "metadata": {},
     "output_type": "execute_result"
    }
   ],
   "source": [
    "df[\"Category\"].max()"
   ]
  },
  {
   "cell_type": "code",
   "execution_count": 14,
   "metadata": {},
   "outputs": [],
   "source": [
    "keyword = [\n",
    "\"Analyse von Markttrends\",\"Kundenfeedback\",\"Datengetriebene Entscheidung\",\n",
    "\"Datenbereinigung\",\"Statistische Analyse\",\"Predictive Analyse\",\n",
    "\"Explorative Datenanalyse\",\"Data Mining\",\"Machine Learning\",\n",
    "\"Datenmodellierung\",\"Interaktive Dashboards\",\"Algorithmen\",\n",
    "\"Data Storytelling\",\"Database\",\"Datensatz\",\"Feature Engineering\",\n",
    "\"Zeitreihenanalyse\"\n",
    "]\n",
    "\n",
    "definition = [\n",
    "'''Untersuchen von Mustern und Entwicklungen auf dem Markt, \n",
    "um Einblicke in das Verhalten von Verbrauchern und Wettbewerbern zu gewinnen.''',\n",
    "\n",
    "'''Sammeln und Auswerten von Rückmeldungen und Meinungen von Kunden, \n",
    "um Einblicke in ihre Präferenzen und Bedürfnisse zu erhalten.''',\n",
    "\n",
    "'''Treffen von Entscheidungen basierend auf objektiver Analyse \n",
    "und Interpretation von Daten, um bessere Geschäftsentscheidungen zu treffen.''',\n",
    "\n",
    "'''Prozess der Identifizierung und Korrektur von Fehlern, \n",
    "Ungenauigkeiten und fehlenden Werten in einem Datensatz, um die Datenqualität zu verbessern.''',\n",
    "\n",
    "'''Anwenden von statistischen Methoden, um Muster, \n",
    "Beziehungen und Trends in Daten zu erkennen und zu interpretieren.''',\n",
    "\n",
    "'''Nutzung von historischen Daten und statistischen Algorithmen, \n",
    "um zukünftige Ereignisse oder Trends vorherzusagen.''',\n",
    "\n",
    "'''Untersuchen von Daten, um Muster, \n",
    "Zusammenhänge und Abweichungen zu entdecken, \n",
    "die zur Formulierung neuer Hypothesen führen können.''',\n",
    "\n",
    "'''Entdecken von verborgenen Mustern, \n",
    "Zusammenhängen und Informationen in großen Datenmengen, \n",
    "um wertvolle Erkenntnisse zu gewinnen.''',\n",
    "\n",
    "'''Anwendung von Algorithmen und Modellen, \n",
    "die es einem Computer ermöglichen, aus Daten \n",
    "zu lernen und Vorhersagen oder Entscheidungen zu treffen.''',\n",
    "\n",
    "'''Erstellen von abstrakten Darstellungen \n",
    "von Datenstrukturen und Beziehungen, um die Datenverarbeitung \n",
    "und -analyse zu optimieren.''',\n",
    "\n",
    "'''Erstellen von visuellen Berichtsoberflächen, \n",
    "die es Benutzern ermöglichen, Daten interaktiv zu \n",
    "erkunden und zu analysieren.''',\n",
    "\n",
    "'''Mathematische Anweisungen, die verwendet werden, \n",
    "um Daten zu verarbeiten, analysieren und Muster zu erkennen.''',\n",
    "\n",
    "'''Kommunikation von Datenanalysen und -erkenntnissen \n",
    "in Form einer erzählerischen Präsentation, \n",
    "um die Botschaft verständlich und überzeugend zu vermitteln.''',\n",
    "\n",
    "'''Eine strukturierte Sammlung von Daten, die organisiert, \n",
    "gespeichert und verwaltet wird. Die besteht meistens aus mehreren Tabellen''',\n",
    "\n",
    "'''Eine Sammlung von Daten, die Informationen zu einem \n",
    "bestimmten Thema oder einer bestimmten Entität enthält.''',\n",
    "\n",
    "'''Der Prozess der Schaffung neuer Merkmale oder der \n",
    "Transformation vorhandener Merkmale in einem Datensatz, \n",
    "um die Leistung von Modellen in der Datenanalyse \n",
    "oder im Maschinenlernen zu verbessern.''',\n",
    "\n",
    "'''Datenpunkte werden in chronologischer \n",
    "Reihenfolge erfasst, um Muster und Trends im Laufe \n",
    "der Zeit zu erkennen und Vorhersagen über \n",
    "zukünftige Werte zu treffen.'''\n",
    "]"
   ]
  }
 ],
 "metadata": {
  "kernelspec": {
   "display_name": "Python 3",
   "language": "python",
   "name": "python3"
  },
  "language_info": {
   "codemirror_mode": {
    "name": "ipython",
    "version": 3
   },
   "file_extension": ".py",
   "mimetype": "text/x-python",
   "name": "python",
   "nbconvert_exporter": "python",
   "pygments_lexer": "ipython3",
   "version": "3.8.0"
  },
  "orig_nbformat": 4
 },
 "nbformat": 4,
 "nbformat_minor": 2
}
